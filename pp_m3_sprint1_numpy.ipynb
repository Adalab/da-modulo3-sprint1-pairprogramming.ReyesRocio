{
 "cells": [
  {
   "cell_type": "code",
   "execution_count": 2,
   "metadata": {},
   "outputs": [],
   "source": [
    "import numpy as np"
   ]
  },
  {
   "cell_type": "markdown",
   "metadata": {},
   "source": [
    "#Creación y Indexación:"
   ]
  },
  {
   "cell_type": "markdown",
   "metadata": {},
   "source": [
    "1 - Crea un array 1D con 50 valores aleatorio del 10 al 99. Accede a los elementos en las posiciones múltiplos de 5."
   ]
  },
  {
   "cell_type": "code",
   "execution_count": null,
   "metadata": {},
   "outputs": [],
   "source": []
  },
  {
   "cell_type": "markdown",
   "metadata": {},
   "source": [
    "2 - Crea un array 1D con 30 valores del 1 al 20 (ambos incluidos). Utiliza indexación para obtener los elementos en las posiciones impares."
   ]
  },
  {
   "cell_type": "code",
   "execution_count": null,
   "metadata": {},
   "outputs": [],
   "source": []
  },
  {
   "cell_type": "markdown",
   "metadata": {},
   "source": [
    "3 - Crea un array 2D de forma (4, 6) con números aleatorios decimales (no deben estar comprendidos solo entre 0 y 1). Accede a la última fila de la matriz. Los decimales deben estar redondeados a 2 decimales."
   ]
  },
  {
   "cell_type": "code",
   "execution_count": null,
   "metadata": {},
   "outputs": [],
   "source": []
  },
  {
   "cell_type": "markdown",
   "metadata": {},
   "source": [
    "4 - Crea un array NumPy 2D de forma (6, 4) con valores decimales entre 0 y 1. Accede a la segunda columna de la matriz. Los números deben estar redondeados a 2 decimales."
   ]
  },
  {
   "cell_type": "code",
   "execution_count": null,
   "metadata": {},
   "outputs": [],
   "source": []
  },
  {
   "cell_type": "markdown",
   "metadata": {},
   "source": [
    "5 - Crea un array 1D con 30 valores enteros aleatorios entre -50 y 50. Extrae los valores negativos."
   ]
  },
  {
   "cell_type": "code",
   "execution_count": null,
   "metadata": {},
   "outputs": [],
   "source": []
  },
  {
   "cell_type": "markdown",
   "metadata": {},
   "source": [
    "6 - Crea un array 1D con 10 valores entre 0 y 1. Redondea los decimales a 2. Obtén los elementos cuyo valor es mayor que 0.5. ¿En que posición/es están esos elementos?"
   ]
  },
  {
   "cell_type": "code",
   "execution_count": null,
   "metadata": {},
   "outputs": [],
   "source": []
  },
  {
   "cell_type": "markdown",
   "metadata": {},
   "source": [
    "7 - Crea un array 1D con 40 valores del 1 al 100 (ambos incluidos). Obtén los elementos que son divisibles por 3 y por 4."
   ]
  },
  {
   "cell_type": "code",
   "execution_count": null,
   "metadata": {},
   "outputs": [],
   "source": []
  },
  {
   "cell_type": "markdown",
   "metadata": {},
   "source": [
    "8 - BONUS: Crea un array 3D de forma (2, 3, 5) y 50 elementos con números enteros entre 0 y 100 (ambos incluidos). Reemplaza los elementos en posiciones múltiplos de 3 por 0."
   ]
  },
  {
   "cell_type": "code",
   "execution_count": null,
   "metadata": {},
   "outputs": [],
   "source": []
  },
  {
   "cell_type": "markdown",
   "metadata": {},
   "source": [
    "# Reshape y Transpose"
   ]
  },
  {
   "cell_type": "markdown",
   "metadata": {},
   "source": [
    "## Ejercicios con reshape:"
   ]
  },
  {
   "cell_type": "markdown",
   "metadata": {},
   "source": [
    "1. Crea un array 3D de forma (2, 3, 4) con valores aleatorios entre 1 y 100 (ambos inclusive). Utiliza reshape para convertirlo en un array 2D. Deberás pensar en la forma que es correcta para hacer este cambio."
   ]
  },
  {
   "cell_type": "code",
   "execution_count": 3,
   "metadata": {},
   "outputs": [
    {
     "name": "stdout",
     "output_type": "stream",
     "text": [
      "Array original (3D):\n",
      " [[[ 80  22  15  72]\n",
      "  [ 33  45  92  86]\n",
      "  [ 83  45  66   8]]\n",
      "\n",
      " [[100  20  24  95]\n",
      "  [  6  98  28  16]\n",
      "  [ 54  79  17  92]]]\n",
      "\n",
      "Array convertido a 2D:\n",
      " [[ 80  22  15  72]\n",
      " [ 33  45  92  86]\n",
      " [ 83  45  66   8]\n",
      " [100  20  24  95]\n",
      " [  6  98  28  16]\n",
      " [ 54  79  17  92]]\n"
     ]
    }
   ],
   "source": [
    "# Crear un array 3D de forma (2, 3, 4) con valores aleatorios entre 1 y 100\n",
    "array_3d = np.random.randint(1, 101, size=(2, 3, 4))\n",
    "print(\"Array original (3D):\\n\", array_3d)\n",
    "\n",
    "# Obtener el número total de elementos en el array 3D\n",
    "total_elementos = np.prod(array_3d.shape)\n",
    "\n",
    "# Reshape del array 3D a un array 2D manteniendo el mismo número total de elementos\n",
    "array_2d = array_3d.reshape(total_elementos // 4, 4)\n",
    "print(\"\\nArray convertido a 2D:\\n\", array_2d)\n"
   ]
  },
  {
   "cell_type": "markdown",
   "metadata": {},
   "source": [
    "2. Crea un array 3D de forma (3, 4, 5) con valores enteros del 1 al 60 (sin incluir). Utiliza reshape para convertirlo en un array 2D."
   ]
  },
  {
   "cell_type": "code",
   "execution_count": 7,
   "metadata": {},
   "outputs": [
    {
     "name": "stdout",
     "output_type": "stream",
     "text": [
      "Array original (3D):\n",
      " [[[ 1  2  3  4  5]\n",
      "  [ 6  7  8  9 10]\n",
      "  [11 12 13 14 15]\n",
      "  [16 17 18 19 20]]\n",
      "\n",
      " [[21 22 23 24 25]\n",
      "  [26 27 28 29 30]\n",
      "  [31 32 33 34 35]\n",
      "  [36 37 38 39 40]]\n",
      "\n",
      " [[41 42 43 44 45]\n",
      "  [46 47 48 49 50]\n",
      "  [51 52 53 54 55]\n",
      "  [56 57 58 59 60]]]\n",
      "\n",
      "Array convertido a 2D:\n",
      " [[ 1  2  3  4  5]\n",
      " [ 6  7  8  9 10]\n",
      " [11 12 13 14 15]\n",
      " [16 17 18 19 20]\n",
      " [21 22 23 24 25]\n",
      " [26 27 28 29 30]\n",
      " [31 32 33 34 35]\n",
      " [36 37 38 39 40]\n",
      " [41 42 43 44 45]\n",
      " [46 47 48 49 50]\n",
      " [51 52 53 54 55]\n",
      " [56 57 58 59 60]]\n"
     ]
    }
   ],
   "source": [
    "# Crear un array 3D de forma (3, 4, 5) con valores del 1 al 60 (sin incluir)\n",
    "array_3d = np.arange(1, 61).reshape(3, 4, 5)\n",
    "print(\"Array original (3D):\\n\", array_3d)\n",
    "\n",
    "# Reshape del array 3D a un array 2D\n",
    "array_2d = array_3d.reshape(-1, 5)\n",
    "print(\"\\nArray convertido a 2D:\\n\", array_2d)"
   ]
  },
  {
   "cell_type": "markdown",
   "metadata": {},
   "source": [
    "3. Crea un array 3D de forma (4, 3, 2) con valores aleatorios entre 0 y 1. Utiliza reshape para convertirlo en un array 2D."
   ]
  },
  {
   "cell_type": "code",
   "execution_count": 8,
   "metadata": {},
   "outputs": [
    {
     "name": "stdout",
     "output_type": "stream",
     "text": [
      "Array original (3D):\n",
      " [[[0.99924834 0.41791436]\n",
      "  [0.75246183 0.9000284 ]\n",
      "  [0.14356722 0.8395586 ]]\n",
      "\n",
      " [[0.40334952 0.63224565]\n",
      "  [0.71486972 0.46503208]\n",
      "  [0.69314855 0.44059469]]\n",
      "\n",
      " [[0.18595044 0.2749959 ]\n",
      "  [0.99510394 0.52082751]\n",
      "  [0.83331607 0.69135374]]\n",
      "\n",
      " [[0.99598737 0.4872912 ]\n",
      "  [0.78491586 0.0710255 ]\n",
      "  [0.95167933 0.1150893 ]]]\n",
      "\n",
      "Array convertido a 2D:\n",
      " [[0.99924834 0.41791436]\n",
      " [0.75246183 0.9000284 ]\n",
      " [0.14356722 0.8395586 ]\n",
      " [0.40334952 0.63224565]\n",
      " [0.71486972 0.46503208]\n",
      " [0.69314855 0.44059469]\n",
      " [0.18595044 0.2749959 ]\n",
      " [0.99510394 0.52082751]\n",
      " [0.83331607 0.69135374]\n",
      " [0.99598737 0.4872912 ]\n",
      " [0.78491586 0.0710255 ]\n",
      " [0.95167933 0.1150893 ]]\n"
     ]
    }
   ],
   "source": [
    "# Crear un array 3D de forma (4, 3, 2) con valores aleatorios entre 0 y 1\n",
    "array_3d = np.random.rand(4, 3, 2)\n",
    "print(\"Array original (3D):\\n\", array_3d)\n",
    "\n",
    "# Reshape del array 3D a un array 2D\n",
    "array_2d = array_3d.reshape(-1, 2)\n",
    "print(\"\\nArray convertido a 2D:\\n\", array_2d)"
   ]
  },
  {
   "cell_type": "markdown",
   "metadata": {},
   "source": [
    "## Ejercicios con transpose:"
   ]
  },
  {
   "cell_type": "markdown",
   "metadata": {},
   "source": [
    "4. Utiliza el array 3D del ejercicio 2 de reshape. Utiliza transpose para permutar los ejes y obtener un nuevo array con forma (5, 4, 3)."
   ]
  },
  {
   "cell_type": "code",
   "execution_count": 9,
   "metadata": {},
   "outputs": [
    {
     "name": "stdout",
     "output_type": "stream",
     "text": [
      "Array original (3D):\n",
      " [[[ 1  2  3  4  5]\n",
      "  [ 6  7  8  9 10]\n",
      "  [11 12 13 14 15]\n",
      "  [16 17 18 19 20]]\n",
      "\n",
      " [[21 22 23 24 25]\n",
      "  [26 27 28 29 30]\n",
      "  [31 32 33 34 35]\n",
      "  [36 37 38 39 40]]\n",
      "\n",
      " [[41 42 43 44 45]\n",
      "  [46 47 48 49 50]\n",
      "  [51 52 53 54 55]\n",
      "  [56 57 58 59 60]]]\n",
      "\n",
      "Nuevo array con forma (5, 4, 3):\n",
      " [[[ 1 21 41]\n",
      "  [ 6 26 46]\n",
      "  [11 31 51]\n",
      "  [16 36 56]]\n",
      "\n",
      " [[ 2 22 42]\n",
      "  [ 7 27 47]\n",
      "  [12 32 52]\n",
      "  [17 37 57]]\n",
      "\n",
      " [[ 3 23 43]\n",
      "  [ 8 28 48]\n",
      "  [13 33 53]\n",
      "  [18 38 58]]\n",
      "\n",
      " [[ 4 24 44]\n",
      "  [ 9 29 49]\n",
      "  [14 34 54]\n",
      "  [19 39 59]]\n",
      "\n",
      " [[ 5 25 45]\n",
      "  [10 30 50]\n",
      "  [15 35 55]\n",
      "  [20 40 60]]]\n"
     ]
    }
   ],
   "source": [
    "# Crear el array 3D original\n",
    "array_3d = np.arange(1, 61).reshape(3, 4, 5)\n",
    "print(\"Array original (3D):\\n\", array_3d)\n",
    "\n",
    "# Permutar los ejes para obtener un nuevo array con forma (5, 4, 3)\n",
    "nuevo_array_3d = array_3d.transpose(2, 1, 0)\n",
    "print(\"\\nNuevo array con forma (5, 4, 3):\\n\", nuevo_array_3d)"
   ]
  },
  {
   "cell_type": "markdown",
   "metadata": {},
   "source": [
    "5. Utiliza el array 3D del ejercicio 3 de reshape. Utiliza transpose para cambiar el orden de los ejes y obtener un nuevo array con forma (3, 2, 4)."
   ]
  },
  {
   "cell_type": "code",
   "execution_count": 10,
   "metadata": {},
   "outputs": [
    {
     "name": "stdout",
     "output_type": "stream",
     "text": [
      "Array original (3D):\n",
      " [[[0.12590795 0.0674334 ]\n",
      "  [0.83589934 0.57560462]\n",
      "  [0.02688422 0.09225866]]\n",
      "\n",
      " [[0.68241555 0.65931607]\n",
      "  [0.48014454 0.95398871]\n",
      "  [0.50892055 0.11160739]]\n",
      "\n",
      " [[0.17821847 0.24715051]\n",
      "  [0.90813215 0.00281952]\n",
      "  [0.29470176 0.66826665]]\n",
      "\n",
      " [[0.1930527  0.31262073]\n",
      "  [0.33703023 0.84166131]\n",
      "  [0.93595732 0.90591541]]]\n",
      "\n",
      "Nuevo array con forma (3, 2, 4):\n",
      " [[[0.12590795 0.68241555 0.17821847 0.1930527 ]\n",
      "  [0.0674334  0.65931607 0.24715051 0.31262073]]\n",
      "\n",
      " [[0.83589934 0.48014454 0.90813215 0.33703023]\n",
      "  [0.57560462 0.95398871 0.00281952 0.84166131]]\n",
      "\n",
      " [[0.02688422 0.50892055 0.29470176 0.93595732]\n",
      "  [0.09225866 0.11160739 0.66826665 0.90591541]]]\n"
     ]
    }
   ],
   "source": [
    "# Crear el array 3D original\n",
    "array_3d = np.random.rand(4, 3, 2)\n",
    "print(\"Array original (3D):\\n\", array_3d)\n",
    "\n",
    "# Cambiar el orden de los ejes para obtener un nuevo array con forma (3, 2, 4)\n",
    "nuevo_array_3d = array_3d.transpose(1, 2, 0)\n",
    "print(\"\\nNuevo array con forma (3, 2, 4):\\n\", nuevo_array_3d)"
   ]
  },
  {
   "cell_type": "markdown",
   "metadata": {},
   "source": [
    "## Preguntas teóricas"
   ]
  },
  {
   "cell_type": "markdown",
   "metadata": {},
   "source": [
    "6. ¿Qué diferencia existe entre el reshape y el transpose?"
   ]
  },
  {
   "cell_type": "markdown",
   "metadata": {},
   "source": [
    "### *reshape* se utiliza para cambiar la forma del array manteniendo los mismos datos.\n",
    " - permite cambiar las dimensiones del array siempre que el número total de elementos sea el mismo.\n",
    " - se puede convertir un array 1D en uno 2D o 3D, o modificar las dimensiones de un array manteniendo el mismo número total de elementos.\n",
    "\n",
    "### *transpose* se utiliza para cambiar el orden de los ejes del array, alterando la disposición de los datos.\n",
    " - permite cambiar la orientación o disposición de los datos.\n",
    " - se puede cambiar un array 2D para intercambiar filas y columnas, o un array 3D para reorganizar las dimensiones.\n"
   ]
  },
  {
   "cell_type": "code",
   "execution_count": 15,
   "metadata": {},
   "outputs": [
    {
     "name": "stdout",
     "output_type": "stream",
     "text": [
      "Array original 1D:\n",
      " [ 0  1  2  3  4  5  6  7  8  9 10 11]\n",
      "\n",
      "Array convertido a 2D:\n",
      " [[ 0  1  2  3]\n",
      " [ 4  5  6  7]\n",
      " [ 8  9 10 11]]\n"
     ]
    }
   ],
   "source": [
    "#reshape\n",
    "array_2_reshape = np.arange(12)  # Array de 1D con 12 elementos\n",
    "reshaped_array = array_2_reshape.reshape(3, 4)  # Cambia la forma a 3 filas y 4 columnas (2D)\n",
    "print(\"Array original 1D:\\n\",array_2_reshape)\n",
    "print(\"\\nArray convertido a 2D:\\n\", reshaped_array)"
   ]
  },
  {
   "cell_type": "code",
   "execution_count": 17,
   "metadata": {},
   "outputs": [
    {
     "name": "stdout",
     "output_type": "stream",
     "text": [
      "Array original 2D:\n",
      " [[1 2 3]\n",
      " [4 5 6]]\n",
      "\n",
      "Nuevo array con forma (3, 2):\n",
      " [[1 4]\n",
      " [2 5]\n",
      " [3 6]]\n"
     ]
    }
   ],
   "source": [
    "#transpose\n",
    "array_2_transpose = np.array([[1, 2, 3], [4, 5, 6]])  # Array 2D con forma (2,3) - 2 filas y 3 columnas\n",
    "transposed_array = array_2_transpose.T  # Transpone el array, intercambiando filas y columnas (3 filas y 2 columnas)\n",
    "print(\"Array original 2D:\\n\",array_2_transpose)\n",
    "print(\"\\nNuevo array con forma (3, 2):\\n\",transposed_array)"
   ]
  },
  {
   "cell_type": "markdown",
   "metadata": {},
   "source": [
    "7. ¿Y entre el transpose y el swapaxes?"
   ]
  },
  {
   "cell_type": "markdown",
   "metadata": {},
   "source": [
    "**transpose** se utiliza para **reordenar** los ejes de un array según dimensiones específicas o invertir su orden si no se especifica\n",
    "\n",
    "**swapaxes** se utiliza **exclusivamente para intercambiar dos ejes** particulares en un array multidimensional sin cambiar la orientación de los demás ejes."
   ]
  },
  {
   "cell_type": "code",
   "execution_count": 27,
   "metadata": {},
   "outputs": [
    {
     "name": "stdout",
     "output_type": "stream",
     "text": [
      "Array original 2D tiene forma (2, 3):\n",
      " [[1 2 3]\n",
      " [4 5 6]]\n",
      "\n",
      "Array transpuesto es 2D tiene forma (3, 2)\n",
      "[[1 4]\n",
      " [2 5]\n",
      " [3 6]]\n"
     ]
    }
   ],
   "source": [
    "#transpose\n",
    "array_7 = np.array([[1, 2, 3], [4, 5, 6]])  # Array 2D original\n",
    "print(f\"Array original {array_7.ndim}D tiene forma {array_7.shape}:\\n\",array_7)\n",
    "transposed_array_7 = array_7.transpose()  # Cambia el orden\n",
    "print(f\"\\nArray transpuesto es {transposed_array_7.ndim}D tiene forma {transposed_array_7.shape}\\n{transposed_array_7}\")"
   ]
  },
  {
   "cell_type": "code",
   "execution_count": 30,
   "metadata": {},
   "outputs": [
    {
     "name": "stdout",
     "output_type": "stream",
     "text": [
      "Array original (3D) con forma (3, 3, 5):\n",
      " [[[ 1  2  3  4  5]\n",
      "  [ 6  7  8  9 10]\n",
      "  [11 12 13 14 15]]\n",
      "\n",
      " [[16 17 18 19 20]\n",
      "  [21 22 23 24 25]\n",
      "  [26 27 28 29 30]]\n",
      "\n",
      " [[31 32 33 34 35]\n",
      "  [36 37 38 39 40]\n",
      "  [41 42 43 44 45]]]\n",
      "\n",
      "Array con ejes intercambiados (3D) con forma (3, 3, 5) después de swapaxes:\n",
      " [[[ 1  2  3  4  5]\n",
      "  [16 17 18 19 20]\n",
      "  [31 32 33 34 35]]\n",
      "\n",
      " [[ 6  7  8  9 10]\n",
      "  [21 22 23 24 25]\n",
      "  [36 37 38 39 40]]\n",
      "\n",
      " [[11 12 13 14 15]\n",
      "  [26 27 28 29 30]\n",
      "  [41 42 43 44 45]]]\n"
     ]
    }
   ],
   "source": [
    "#swapaxes\n",
    "\n",
    "# Crear un array 3D con forma (3, 3, 5) con valores específicos\n",
    "array_3d = np.array([\n",
    "    [[1, 2, 3, 4, 5], [6, 7, 8, 9, 10], [11, 12, 13, 14, 15]],\n",
    "    [[16, 17, 18, 19, 20], [21, 22, 23, 24, 25], [26, 27, 28, 29, 30]],\n",
    "    [[31, 32, 33, 34, 35], [36, 37, 38, 39, 40], [41, 42, 43, 44, 45]]\n",
    "])\n",
    "\n",
    "print(\"Array original (3D) con forma (3, 3, 5):\\n\", array_3d)\n",
    "\n",
    "# Intercambiar los ejes 0 y 1 usando swapaxes\n",
    "swapped_axes_array = array_3d.swapaxes(0, 1)\n",
    "print(\"\\nArray con ejes intercambiados (3D) con forma (3, 3, 5) después de swapaxes:\\n\", swapped_axes_array)\n"
   ]
  },
  {
   "cell_type": "markdown",
   "metadata": {},
   "source": [
    "# Funciones Aritméticas y Estadísticas:"
   ]
  },
  {
   "cell_type": "markdown",
   "metadata": {},
   "source": [
    "1. Crea un array de tres 3D con elementos entre el 0 y 1 de forma (2, 3, 5) cuyos valores solo tengan 1 decimal."
   ]
  },
  {
   "cell_type": "code",
   "execution_count": 34,
   "metadata": {},
   "outputs": [
    {
     "name": "stdout",
     "output_type": "stream",
     "text": [
      "Array 3D de forma (2, 3, 5) con valores entre 0 y 1 con un decimal:\n",
      " [[[0.5 0.1 0.7 0.2 0.3]\n",
      "  [0.5 0.6 0.5 0.6 0.4]\n",
      "  [0.8 1.  0.3 0.2 0.9]]\n",
      "\n",
      " [[0.6 0.9 0.1 0.5 0. ]\n",
      "  [0.8 0.4 0.2 0.3 0.8]\n",
      "  [0.1 0.3 0.  0.7 0.7]]]\n"
     ]
    }
   ],
   "source": [
    "# Crear un array 3D de forma (2, 3, 5) con valores entre 0 y 1 con un solo decimal\n",
    "array_3d = np.round(np.random.rand(2, 3, 5), 1)\n",
    "print(\"Array 3D de forma (2, 3, 5) con valores entre 0 y 1 con un decimal:\\n\", array_3d)"
   ]
  },
  {
   "cell_type": "markdown",
   "metadata": {},
   "source": [
    "2. Crea un array vacío con la misma forma y dimensiones que el array creado anteriormente. Vamos a reemplazar los valores de la matriz vacía que nos acabamos de crear pero basándonos en los valores del primer array bajo las siguientes condiciones:\n",
    " - Si el valor del array es igual que la media, se reemplaza por \"A\".\n",
    " - Si el valor del array es mayor que la media, se reemplaza por \"B\".\n",
    " - Si el valor del array es menor que la media, se reemplaza por \"C\".\n",
    " - Si el valor es igual que el máximo, se reemplaza por \"D\".\n",
    " - Si el valor es igual que el mínimo, se reemplaza por \"E\"."
   ]
  },
  {
   "cell_type": "code",
   "execution_count": 36,
   "metadata": {},
   "outputs": [
    {
     "name": "stdout",
     "output_type": "stream",
     "text": [
      "Array vacío con los valores reemplazados:\n",
      " [[['B' 'C' 'B' 'C' 'C']\n",
      "  ['B' 'B' 'B' 'B' 'C']\n",
      "  ['B' 'D' 'C' 'C' 'B']]\n",
      "\n",
      " [['B' 'B' 'C' 'B' 'E']\n",
      "  ['B' 'C' 'C' 'C' 'B']\n",
      "  ['C' 'C' 'E' 'B' 'B']]]\n"
     ]
    }
   ],
   "source": [
    "# Obtener la media, el máximo y el mínimo del primer array\n",
    "media = np.mean(array_3d)\n",
    "maximo = np.max(array_3d)\n",
    "minimo = np.min(array_3d)\n",
    "\n",
    "# Crear un array vacío con la misma forma y dimensiones que array_3d\n",
    "# ojo: si asigno strings al array vacío hay q definir el tipo de dato como dtype=str para q no de error al intentar convertir esos strings a números\n",
    "array_vacio = np.empty_like(array_3d, dtype=str) \n",
    "\n",
    "# Reemplazar los valores del array_vacio según las condiciones dadas\n",
    "for i in range(array_3d.shape[0]):\n",
    "    for j in range(array_3d.shape[1]):\n",
    "        for k in range(array_3d.shape[2]):\n",
    "            valor = array_3d[i, j, k]\n",
    "            if valor == media:\n",
    "                array_vacio[i, j, k] = 'A'\n",
    "            elif valor > media:\n",
    "                array_vacio[i, j, k] = 'B'\n",
    "            elif valor < media:\n",
    "                array_vacio[i, j, k] = 'C'\n",
    "            if valor == maximo:\n",
    "                array_vacio[i, j, k] = 'D'\n",
    "            if valor == minimo:\n",
    "                array_vacio[i, j, k] = 'E'\n",
    "\n",
    "print(\"Array vacío con los valores reemplazados:\\n\", array_vacio)"
   ]
  }
 ],
 "metadata": {
  "kernelspec": {
   "display_name": "base",
   "language": "python",
   "name": "python3"
  },
  "language_info": {
   "codemirror_mode": {
    "name": "ipython",
    "version": 3
   },
   "file_extension": ".py",
   "mimetype": "text/x-python",
   "name": "python",
   "nbconvert_exporter": "python",
   "pygments_lexer": "ipython3",
   "version": "3.9.7"
  }
 },
 "nbformat": 4,
 "nbformat_minor": 2
}
