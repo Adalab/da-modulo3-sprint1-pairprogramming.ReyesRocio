{
 "cells": [
  {
   "cell_type": "markdown",
   "metadata": {},
   "source": [
    "# Pair programming Unión de Datos e Introducción a Limpieza"
   ]
  },
  {
   "cell_type": "markdown",
   "metadata": {},
   "source": [
    "Para realizar este pair programming deberéis usar el conjunto de datos de world-data-2023-part1.csv y el de world-data-2023-part2.csv."
   ]
  },
  {
   "cell_type": "code",
   "execution_count": 2,
   "metadata": {},
   "outputs": [],
   "source": [
    "import pandas as pd\n",
    "import numpy as np"
   ]
  },
  {
   "cell_type": "markdown",
   "metadata": {},
   "source": [
    "## Ejercicios Unión de Datos"
   ]
  },
  {
   "cell_type": "markdown",
   "metadata": {},
   "source": [
    "1_Explora y carga ambos conjuntos de datos en pandas DataFrames."
   ]
  },
  {
   "cell_type": "code",
   "execution_count": 40,
   "metadata": {},
   "outputs": [
    {
     "data": {
      "text/plain": [
       "(195, 16)"
      ]
     },
     "execution_count": 40,
     "metadata": {},
     "output_type": "execute_result"
    }
   ],
   "source": [
    "df_wdp1=pd.read_csv(\"world-data-2023_part1.csv\", index_col=0)\n",
    "df_wdp1.shape"
   ]
  },
  {
   "cell_type": "code",
   "execution_count": 41,
   "metadata": {},
   "outputs": [
    {
     "data": {
      "text/plain": [
       "(195, 19)"
      ]
     },
     "execution_count": 41,
     "metadata": {},
     "output_type": "execute_result"
    }
   ],
   "source": [
    "df_wdp2=pd.read_csv(\"world-data-2023_part2.csv\", index_col=0)\n",
    "df_wdp2.shape"
   ]
  },
  {
   "cell_type": "markdown",
   "metadata": {},
   "source": [
    "2_Identifica las columnas comunes entre los dos conjuntos de datos."
   ]
  },
  {
   "cell_type": "code",
   "execution_count": 32,
   "metadata": {},
   "outputs": [
    {
     "name": "stdout",
     "output_type": "stream",
     "text": [
      "['Country', 'Density\\n(P/Km2)', 'Abbreviation', 'Agricultural Land( %)', 'Land Area(Km2)', 'Armed Forces size', 'Birth Rate', 'Calling Code', 'Capital/Major City', 'Co2-Emissions', 'CPI', 'CPI Change (%)', 'Currency-Code', 'Fertility Rate', 'Forested Area (%)', 'Gasoline Price']\n"
     ]
    }
   ],
   "source": [
    "columnas_wdp1=df_wdp1.columns.tolist()\n",
    "print(columnas_wdp1)"
   ]
  },
  {
   "cell_type": "code",
   "execution_count": 33,
   "metadata": {},
   "outputs": [
    {
     "name": "stdout",
     "output_type": "stream",
     "text": [
      "['GDP', 'Gross primary education enrollment (%)', 'Gross tertiary education enrollment (%)', 'Infant mortality', 'Largest city', 'Life expectancy', 'Maternal mortality ratio', 'Minimum wage', 'Official language', 'Out of pocket health expenditure', 'Physicians per thousand', 'Population', 'Population: Labor force participation (%)', 'Tax revenue (%)', 'Total tax rate', 'Unemployment rate', 'Urban_population', 'country', 'coordinates']\n"
     ]
    }
   ],
   "source": [
    "columnas_wdp2=df_wdp2.columns.tolist()\n",
    "print(columnas_wdp2)"
   ]
  },
  {
   "cell_type": "code",
   "execution_count": 19,
   "metadata": {},
   "outputs": [
    {
     "name": "stdout",
     "output_type": "stream",
     "text": [
      "['Country']\n"
     ]
    }
   ],
   "source": [
    "#Ponemos columnas en minuscula para mejor comparación\n",
    "columnas_comunes = [col for col in columnas_wdp1 if col.lower() in columnas_wdp2]\n",
    "print(columnas_comunes)"
   ]
  },
  {
   "cell_type": "markdown",
   "metadata": {},
   "source": [
    "3_Utiliza el método de unión de Pandas que consideres más adecuado para combinar los datos de ambos años en un solo DataFrame."
   ]
  },
  {
   "cell_type": "code",
   "execution_count": 44,
   "metadata": {},
   "outputs": [],
   "source": [
    "df_merge=df_wdp1.merge(df_wdp2, left_on=\"Country\", right_on=\"country\", how=\"left\")"
   ]
  },
  {
   "cell_type": "code",
   "execution_count": 45,
   "metadata": {},
   "outputs": [
    {
     "data": {
      "text/plain": [
       "(195, 35)"
      ]
     },
     "execution_count": 45,
     "metadata": {},
     "output_type": "execute_result"
    }
   ],
   "source": [
    "df_merge.shape"
   ]
  },
  {
   "cell_type": "markdown",
   "metadata": {},
   "source": [
    "4_Explica por qué elegiste ese método de unión y cómo se llevaron a cabo los pasos anteriores."
   ]
  },
  {
   "cell_type": "code",
   "execution_count": null,
   "metadata": {},
   "outputs": [],
   "source": [
    "#Uniremos con merge ya que tenemos columnas que tienen valores del mismo tipo (países) aunque las columnas se llamen dieferente. \n",
    "#Como no sabemos si los valores de la columna de unión son los mismos, vamos a hacer un left join para asegurarnos de que conserva\n",
    "#todos las filas del DF izquierdo y que incluye aquellas de la derecha que no tiene coincidencia con el DF izquierda. \n",
    "#En nuestro caso, al haber coincidencia de todas las filas en ambos DF podríamos haber optado por un inner, pero somos conservadoras :D"
   ]
  },
  {
   "cell_type": "markdown",
   "metadata": {},
   "source": [
    "## Ejercicios de Limpieza"
   ]
  },
  {
   "cell_type": "markdown",
   "metadata": {},
   "source": [
    "1_Después de la unión de datos, tenemos dos columnas de \"country\". Elimina una de ellas."
   ]
  },
  {
   "cell_type": "code",
   "execution_count": 47,
   "metadata": {},
   "outputs": [
    {
     "ename": "KeyError",
     "evalue": "\"['country'] not found in axis\"",
     "output_type": "error",
     "traceback": [
      "\u001b[1;31m---------------------------------------------------------------------------\u001b[0m",
      "\u001b[1;31mKeyError\u001b[0m                                  Traceback (most recent call last)",
      "\u001b[1;32mc:\\Users\\nalon\\Desktop\\Adalab\\Modulo 3\\Pair\\da-modulo3-sprint1-pairprogramming.ReyesRocio\\limpieza_analisis_datos\\pp_union_limpieza_datos.ipynb Cell 19\u001b[0m line \u001b[0;36m1\n\u001b[1;32m----> <a href='vscode-notebook-cell:/c%3A/Users/nalon/Desktop/Adalab/Modulo%203/Pair/da-modulo3-sprint1-pairprogramming.ReyesRocio/limpieza_analisis_datos/pp_union_limpieza_datos.ipynb#X16sZmlsZQ%3D%3D?line=0'>1</a>\u001b[0m df_merge\u001b[39m.\u001b[39mdrop(labels\u001b[39m=\u001b[39m\u001b[39m\"\u001b[39m\u001b[39mcountry\u001b[39m\u001b[39m\"\u001b[39m, axis\u001b[39m=\u001b[39m\u001b[39m1\u001b[39m, inplace\u001b[39m=\u001b[39m\u001b[39mTrue\u001b[39;00m)\n\u001b[0;32m      <a href='vscode-notebook-cell:/c%3A/Users/nalon/Desktop/Adalab/Modulo%203/Pair/da-modulo3-sprint1-pairprogramming.ReyesRocio/limpieza_analisis_datos/pp_union_limpieza_datos.ipynb#X16sZmlsZQ%3D%3D?line=1'>2</a>\u001b[0m df_merge\u001b[39m.\u001b[39mdescribe\n",
      "File \u001b[1;32mc:\\Users\\nalon\\AppData\\Local\\Programs\\Python\\Python310\\lib\\site-packages\\pandas\\core\\frame.py:5347\u001b[0m, in \u001b[0;36mDataFrame.drop\u001b[1;34m(self, labels, axis, index, columns, level, inplace, errors)\u001b[0m\n\u001b[0;32m   5199\u001b[0m \u001b[39mdef\u001b[39;00m \u001b[39mdrop\u001b[39m(\n\u001b[0;32m   5200\u001b[0m     \u001b[39mself\u001b[39m,\n\u001b[0;32m   5201\u001b[0m     labels: IndexLabel \u001b[39m|\u001b[39m \u001b[39mNone\u001b[39;00m \u001b[39m=\u001b[39m \u001b[39mNone\u001b[39;00m,\n\u001b[1;32m   (...)\u001b[0m\n\u001b[0;32m   5208\u001b[0m     errors: IgnoreRaise \u001b[39m=\u001b[39m \u001b[39m\"\u001b[39m\u001b[39mraise\u001b[39m\u001b[39m\"\u001b[39m,\n\u001b[0;32m   5209\u001b[0m ) \u001b[39m-\u001b[39m\u001b[39m>\u001b[39m DataFrame \u001b[39m|\u001b[39m \u001b[39mNone\u001b[39;00m:\n\u001b[0;32m   5210\u001b[0m     \u001b[39m\"\"\"\u001b[39;00m\n\u001b[0;32m   5211\u001b[0m \u001b[39m    Drop specified labels from rows or columns.\u001b[39;00m\n\u001b[0;32m   5212\u001b[0m \n\u001b[1;32m   (...)\u001b[0m\n\u001b[0;32m   5345\u001b[0m \u001b[39m            weight  1.0     0.8\u001b[39;00m\n\u001b[0;32m   5346\u001b[0m \u001b[39m    \"\"\"\u001b[39;00m\n\u001b[1;32m-> 5347\u001b[0m     \u001b[39mreturn\u001b[39;00m \u001b[39msuper\u001b[39;49m()\u001b[39m.\u001b[39;49mdrop(\n\u001b[0;32m   5348\u001b[0m         labels\u001b[39m=\u001b[39;49mlabels,\n\u001b[0;32m   5349\u001b[0m         axis\u001b[39m=\u001b[39;49maxis,\n\u001b[0;32m   5350\u001b[0m         index\u001b[39m=\u001b[39;49mindex,\n\u001b[0;32m   5351\u001b[0m         columns\u001b[39m=\u001b[39;49mcolumns,\n\u001b[0;32m   5352\u001b[0m         level\u001b[39m=\u001b[39;49mlevel,\n\u001b[0;32m   5353\u001b[0m         inplace\u001b[39m=\u001b[39;49minplace,\n\u001b[0;32m   5354\u001b[0m         errors\u001b[39m=\u001b[39;49merrors,\n\u001b[0;32m   5355\u001b[0m     )\n",
      "File \u001b[1;32mc:\\Users\\nalon\\AppData\\Local\\Programs\\Python\\Python310\\lib\\site-packages\\pandas\\core\\generic.py:4711\u001b[0m, in \u001b[0;36mNDFrame.drop\u001b[1;34m(self, labels, axis, index, columns, level, inplace, errors)\u001b[0m\n\u001b[0;32m   4709\u001b[0m \u001b[39mfor\u001b[39;00m axis, labels \u001b[39min\u001b[39;00m axes\u001b[39m.\u001b[39mitems():\n\u001b[0;32m   4710\u001b[0m     \u001b[39mif\u001b[39;00m labels \u001b[39mis\u001b[39;00m \u001b[39mnot\u001b[39;00m \u001b[39mNone\u001b[39;00m:\n\u001b[1;32m-> 4711\u001b[0m         obj \u001b[39m=\u001b[39m obj\u001b[39m.\u001b[39;49m_drop_axis(labels, axis, level\u001b[39m=\u001b[39;49mlevel, errors\u001b[39m=\u001b[39;49merrors)\n\u001b[0;32m   4713\u001b[0m \u001b[39mif\u001b[39;00m inplace:\n\u001b[0;32m   4714\u001b[0m     \u001b[39mself\u001b[39m\u001b[39m.\u001b[39m_update_inplace(obj)\n",
      "File \u001b[1;32mc:\\Users\\nalon\\AppData\\Local\\Programs\\Python\\Python310\\lib\\site-packages\\pandas\\core\\generic.py:4753\u001b[0m, in \u001b[0;36mNDFrame._drop_axis\u001b[1;34m(self, labels, axis, level, errors, only_slice)\u001b[0m\n\u001b[0;32m   4751\u001b[0m         new_axis \u001b[39m=\u001b[39m axis\u001b[39m.\u001b[39mdrop(labels, level\u001b[39m=\u001b[39mlevel, errors\u001b[39m=\u001b[39merrors)\n\u001b[0;32m   4752\u001b[0m     \u001b[39melse\u001b[39;00m:\n\u001b[1;32m-> 4753\u001b[0m         new_axis \u001b[39m=\u001b[39m axis\u001b[39m.\u001b[39;49mdrop(labels, errors\u001b[39m=\u001b[39;49merrors)\n\u001b[0;32m   4754\u001b[0m     indexer \u001b[39m=\u001b[39m axis\u001b[39m.\u001b[39mget_indexer(new_axis)\n\u001b[0;32m   4756\u001b[0m \u001b[39m# Case for non-unique axis\u001b[39;00m\n\u001b[0;32m   4757\u001b[0m \u001b[39melse\u001b[39;00m:\n",
      "File \u001b[1;32mc:\\Users\\nalon\\AppData\\Local\\Programs\\Python\\Python310\\lib\\site-packages\\pandas\\core\\indexes\\base.py:6992\u001b[0m, in \u001b[0;36mIndex.drop\u001b[1;34m(self, labels, errors)\u001b[0m\n\u001b[0;32m   6990\u001b[0m \u001b[39mif\u001b[39;00m mask\u001b[39m.\u001b[39many():\n\u001b[0;32m   6991\u001b[0m     \u001b[39mif\u001b[39;00m errors \u001b[39m!=\u001b[39m \u001b[39m\"\u001b[39m\u001b[39mignore\u001b[39m\u001b[39m\"\u001b[39m:\n\u001b[1;32m-> 6992\u001b[0m         \u001b[39mraise\u001b[39;00m \u001b[39mKeyError\u001b[39;00m(\u001b[39mf\u001b[39m\u001b[39m\"\u001b[39m\u001b[39m{\u001b[39;00mlabels[mask]\u001b[39m.\u001b[39mtolist()\u001b[39m}\u001b[39;00m\u001b[39m not found in axis\u001b[39m\u001b[39m\"\u001b[39m)\n\u001b[0;32m   6993\u001b[0m     indexer \u001b[39m=\u001b[39m indexer[\u001b[39m~\u001b[39mmask]\n\u001b[0;32m   6994\u001b[0m \u001b[39mreturn\u001b[39;00m \u001b[39mself\u001b[39m\u001b[39m.\u001b[39mdelete(indexer)\n",
      "\u001b[1;31mKeyError\u001b[0m: \"['country'] not found in axis\""
     ]
    }
   ],
   "source": [
    "df_merge.drop(labels=\"country\", axis=1, inplace=True)\n"
   ]
  },
  {
   "cell_type": "code",
   "execution_count": 48,
   "metadata": {},
   "outputs": [
    {
     "data": {
      "text/plain": [
       "Index(['Country', 'Density\\n(P/Km2)', 'Abbreviation', 'Agricultural Land( %)',\n",
       "       'Land Area(Km2)', 'Armed Forces size', 'Birth Rate', 'Calling Code',\n",
       "       'Capital/Major City', 'Co2-Emissions', 'CPI', 'CPI Change (%)',\n",
       "       'Currency-Code', 'Fertility Rate', 'Forested Area (%)',\n",
       "       'Gasoline Price', 'GDP', 'Gross primary education enrollment (%)',\n",
       "       'Gross tertiary education enrollment (%)', 'Infant mortality',\n",
       "       'Largest city', 'Life expectancy', 'Maternal mortality ratio',\n",
       "       'Minimum wage', 'Official language', 'Out of pocket health expenditure',\n",
       "       'Physicians per thousand', 'Population',\n",
       "       'Population: Labor force participation (%)', 'Tax revenue (%)',\n",
       "       'Total tax rate', 'Unemployment rate', 'Urban_population',\n",
       "       'coordinates'],\n",
       "      dtype='object')"
      ]
     },
     "execution_count": 48,
     "metadata": {},
     "output_type": "execute_result"
    }
   ],
   "source": [
    "df_merge.columns"
   ]
  },
  {
   "cell_type": "markdown",
   "metadata": {},
   "source": [
    "2_Los nombres de las columnas no son homogeneos. Cambia los nombres de las columnas de tal forma que:\n",
    "- No tengan espacios.\n",
    "- Estén en minúscula.\n",
    "- No tengan paréntesis, es decir, quitar \"(%)\", \"(Km2)\".\n",
    "- Algunas columnas tiene \"\\n\". Eliminalos de los nombres de las columnas.\n",
    "- Algunas columnas tienen \":\". Eliminalos de los nombres de las columnas."
   ]
  },
  {
   "cell_type": "code",
   "execution_count": null,
   "metadata": {},
   "outputs": [],
   "source": []
  },
  {
   "cell_type": "markdown",
   "metadata": {},
   "source": [
    "3_La columnas coordinates tiene la latitud y la longitud en una sola columna.\n",
    "\n",
    "Crea dos columnas nuevas: una con la **longitud** y otra con la **latitud**.\n",
    "\n",
    "Una vez hecho, elimina la columna de coordinates."
   ]
  },
  {
   "cell_type": "code",
   "execution_count": null,
   "metadata": {},
   "outputs": [],
   "source": []
  },
  {
   "cell_type": "markdown",
   "metadata": {},
   "source": [
    "4_Elimina los \"%\" de los valores de las columnas.: unemployment_rate, total_tax_rate, tax_revenue, population_labor_force_participation, out_of_pocket_health_expenditure, gross_tertiary_education_enrollment, gross_primary_education_enrollment, forested_area, cpi_change, agricultural_land. "
   ]
  },
  {
   "cell_type": "code",
   "execution_count": null,
   "metadata": {},
   "outputs": [],
   "source": []
  },
  {
   "cell_type": "markdown",
   "metadata": {},
   "source": [
    "5_Elimina \"$\" en las columnas de gasoline_price, gdp, minimum_wage."
   ]
  },
  {
   "cell_type": "code",
   "execution_count": null,
   "metadata": {},
   "outputs": [],
   "source": []
  },
  {
   "cell_type": "markdown",
   "metadata": {},
   "source": [
    "6_Guarda el DataFrame para usarlo en el pairprogramming de mañana."
   ]
  },
  {
   "cell_type": "code",
   "execution_count": null,
   "metadata": {},
   "outputs": [],
   "source": []
  },
  {
   "cell_type": "markdown",
   "metadata": {},
   "source": [
    "## Ejercicios de Filtrado"
   ]
  },
  {
   "cell_type": "markdown",
   "metadata": {},
   "source": [
    "1_Encuentra todos los países cuya mortalidad infantil esté entre 40 y 50 personas por kilómetro cuadrado."
   ]
  },
  {
   "cell_type": "code",
   "execution_count": null,
   "metadata": {},
   "outputs": [],
   "source": []
  },
  {
   "cell_type": "markdown",
   "metadata": {},
   "source": [
    "2_Encuentra los países cuyas tasas de natalidad son mayores o iguales a 20 y su esperanza de vida es mayor de 75 años."
   ]
  },
  {
   "cell_type": "code",
   "execution_count": null,
   "metadata": {},
   "outputs": [],
   "source": []
  },
  {
   "cell_type": "markdown",
   "metadata": {},
   "source": [
    "3_Encuentra las ciudades cuyos paises contienen la palabra \"la\" en su nombre."
   ]
  },
  {
   "cell_type": "code",
   "execution_count": null,
   "metadata": {},
   "outputs": [],
   "source": []
  },
  {
   "cell_type": "markdown",
   "metadata": {},
   "source": [
    "4_Encuentra los países cuyos medicos por cada 1000 habitantes (physicians_per_thousand) sea mayores de 5."
   ]
  },
  {
   "cell_type": "code",
   "execution_count": null,
   "metadata": {},
   "outputs": [],
   "source": []
  },
  {
   "cell_type": "markdown",
   "metadata": {},
   "source": [
    "5_Encuentra los países cuyatasa de fertilidad sea mayor a 6."
   ]
  },
  {
   "cell_type": "code",
   "execution_count": null,
   "metadata": {},
   "outputs": [],
   "source": []
  },
  {
   "cell_type": "markdown",
   "metadata": {},
   "source": [
    "6_Encuentra los países cuya moneda es el euro (EUR) y tienen una tasa de natalidad superior al promedio."
   ]
  },
  {
   "cell_type": "code",
   "execution_count": null,
   "metadata": {},
   "outputs": [],
   "source": []
  },
  {
   "cell_type": "markdown",
   "metadata": {},
   "source": [
    "7_Encuentra los países cuyas tasas de mortalidad infantil son superiores a 70"
   ]
  },
  {
   "cell_type": "code",
   "execution_count": null,
   "metadata": {},
   "outputs": [],
   "source": []
  }
 ],
 "metadata": {
  "kernelspec": {
   "display_name": "base",
   "language": "python",
   "name": "python3"
  },
  "language_info": {
   "codemirror_mode": {
    "name": "ipython",
    "version": 3
   },
   "file_extension": ".py",
   "mimetype": "text/x-python",
   "name": "python",
   "nbconvert_exporter": "python",
   "pygments_lexer": "ipython3",
   "version": "3.10.7"
  }
 },
 "nbformat": 4,
 "nbformat_minor": 2
}
